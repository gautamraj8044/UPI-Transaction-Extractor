{
  "nbformat": 4,
  "nbformat_minor": 0,
  "metadata": {
    "colab": {
      "provenance": [],
      "toc_visible": true,
      "authorship_tag": "ABX9TyNeEsHJs7jONQqALGD/Ac0k",
      "include_colab_link": true
    },
    "kernelspec": {
      "name": "python3",
      "display_name": "Python 3"
    },
    "language_info": {
      "name": "python"
    }
  },
  "cells": [
    {
      "cell_type": "markdown",
      "metadata": {
        "id": "view-in-github",
        "colab_type": "text"
      },
      "source": [
        "<a href=\"https://colab.research.google.com/github/gautamraj8044/UPI-Transaction-Extractor/blob/master/OCR_assigment.ipynb\" target=\"_parent\"><img src=\"https://colab.research.google.com/assets/colab-badge.svg\" alt=\"Open In Colab\"/></a>"
      ]
    },
    {
      "cell_type": "code",
      "source": [
        "import cv2\n",
        "import re\n",
        "import json\n",
        "from paddleocr import PaddleOCR\n",
        "\n",
        "# Initialize PaddleOCR model with English language support\n",
        "ocr = PaddleOCR(use_angle_cls=True, lang='en')\n",
        "\n",
        "amount_regex = re.compile(r'₹?\\s?\\d+(\\.\\d+)?|(\\d+)\\s?')\n",
        "date_regex = re.compile(r'(\\d{1,2}\\s\\w+\\s\\d{4})')\n",
        "time_regex = re.compile(r'(\\d{1,2}:\\d{2}\\s(?:AM|PM))')\n",
        "upi_id_regex = re.compile(r'\\b[A-Za-z0-9.]+@[a-z]+\\b')\n",
        "to_regex = re.compile(r'To:\\s*([A-Za-z\\s]+)(?:\\s+UPI ID:)?')\n",
        "from_regex = re.compile(r'From:\\s*([A-Za-z\\s]+)')"
      ],
      "metadata": {
        "colab": {
          "base_uri": "https://localhost:8080/"
        },
        "id": "f2-SF4yJ0DMk",
        "outputId": "fbeb9fdd-0e6f-4a91-e585-b6f0c0c611a8"
      },
      "execution_count": 1,
      "outputs": [
        {
          "output_type": "stream",
          "name": "stderr",
          "text": [
            "/usr/local/lib/python3.10/dist-packages/setuptools/command/easy_install.py:41: DeprecationWarning: pkg_resources is deprecated as an API. See https://setuptools.pypa.io/en/latest/pkg_resources.html\n",
            "  import pkg_resources\n",
            "/usr/local/lib/python3.10/dist-packages/pkg_resources/__init__.py:3154: DeprecationWarning: Deprecated call to `pkg_resources.declare_namespace('google')`.\n",
            "Implementing implicit namespace packages (as specified in PEP 420) is preferred to `pkg_resources.declare_namespace`. See https://setuptools.pypa.io/en/latest/references/keywords.html#keyword-namespace-packages\n",
            "  declare_namespace(pkg)\n",
            "/usr/local/lib/python3.10/dist-packages/pkg_resources/__init__.py:3154: DeprecationWarning: Deprecated call to `pkg_resources.declare_namespace('google.cloud')`.\n",
            "Implementing implicit namespace packages (as specified in PEP 420) is preferred to `pkg_resources.declare_namespace`. See https://setuptools.pypa.io/en/latest/references/keywords.html#keyword-namespace-packages\n",
            "  declare_namespace(pkg)\n",
            "/usr/local/lib/python3.10/dist-packages/pkg_resources/__init__.py:2563: DeprecationWarning: Deprecated call to `pkg_resources.declare_namespace('google')`.\n",
            "Implementing implicit namespace packages (as specified in PEP 420) is preferred to `pkg_resources.declare_namespace`. See https://setuptools.pypa.io/en/latest/references/keywords.html#keyword-namespace-packages\n",
            "  declare_namespace(parent)\n",
            "/usr/local/lib/python3.10/dist-packages/pkg_resources/__init__.py:3154: DeprecationWarning: Deprecated call to `pkg_resources.declare_namespace('sphinxcontrib')`.\n",
            "Implementing implicit namespace packages (as specified in PEP 420) is preferred to `pkg_resources.declare_namespace`. See https://setuptools.pypa.io/en/latest/references/keywords.html#keyword-namespace-packages\n",
            "  declare_namespace(pkg)\n"
          ]
        },
        {
          "output_type": "stream",
          "name": "stdout",
          "text": [
            "download https://paddleocr.bj.bcebos.com/PP-OCRv3/english/en_PP-OCRv3_det_infer.tar to /root/.paddleocr/whl/det/en/en_PP-OCRv3_det_infer/en_PP-OCRv3_det_infer.tar\n"
          ]
        },
        {
          "output_type": "stream",
          "name": "stderr",
          "text": [
            "100%|██████████| 4.00M/4.00M [00:18<00:00, 222kiB/s] \n"
          ]
        },
        {
          "output_type": "stream",
          "name": "stdout",
          "text": [
            "download https://paddleocr.bj.bcebos.com/PP-OCRv3/english/en_PP-OCRv3_rec_infer.tar to /root/.paddleocr/whl/rec/en/en_PP-OCRv3_rec_infer/en_PP-OCRv3_rec_infer.tar\n"
          ]
        },
        {
          "output_type": "stream",
          "name": "stderr",
          "text": [
            "100%|██████████| 9.96M/9.96M [00:19<00:00, 517kiB/s] \n"
          ]
        },
        {
          "output_type": "stream",
          "name": "stdout",
          "text": [
            "download https://paddleocr.bj.bcebos.com/dygraph_v2.0/ch/ch_ppocr_mobile_v2.0_cls_infer.tar to /root/.paddleocr/whl/cls/ch_ppocr_mobile_v2.0_cls_infer/ch_ppocr_mobile_v2.0_cls_infer.tar\n"
          ]
        },
        {
          "output_type": "stream",
          "name": "stderr",
          "text": [
            "100%|██████████| 2.19M/2.19M [00:15<00:00, 142kiB/s]\n"
          ]
        },
        {
          "output_type": "stream",
          "name": "stdout",
          "text": [
            "[2024/12/04 18:10:32] ppocr DEBUG: Namespace(help='==SUPPRESS==', use_gpu=False, use_xpu=False, use_npu=False, ir_optim=True, use_tensorrt=False, min_subgraph_size=15, precision='fp32', gpu_mem=500, image_dir=None, page_num=0, det_algorithm='DB', det_model_dir='/root/.paddleocr/whl/det/en/en_PP-OCRv3_det_infer', det_limit_side_len=960, det_limit_type='max', det_box_type='quad', det_db_thresh=0.3, det_db_box_thresh=0.6, det_db_unclip_ratio=1.5, max_batch_size=10, use_dilation=False, det_db_score_mode='fast', det_east_score_thresh=0.8, det_east_cover_thresh=0.1, det_east_nms_thresh=0.2, det_sast_score_thresh=0.5, det_sast_nms_thresh=0.2, det_pse_thresh=0, det_pse_box_thresh=0.85, det_pse_min_area=16, det_pse_scale=1, scales=[8, 16, 32], alpha=1.0, beta=1.0, fourier_degree=5, rec_algorithm='SVTR_LCNet', rec_model_dir='/root/.paddleocr/whl/rec/en/en_PP-OCRv3_rec_infer', rec_image_inverse=True, rec_image_shape='3, 48, 320', rec_batch_num=6, max_text_length=25, rec_char_dict_path='/usr/local/lib/python3.10/dist-packages/paddleocr/ppocr/utils/en_dict.txt', use_space_char=True, vis_font_path='./doc/fonts/simfang.ttf', drop_score=0.5, e2e_algorithm='PGNet', e2e_model_dir=None, e2e_limit_side_len=768, e2e_limit_type='max', e2e_pgnet_score_thresh=0.5, e2e_char_dict_path='./ppocr/utils/ic15_dict.txt', e2e_pgnet_valid_set='totaltext', e2e_pgnet_mode='fast', use_angle_cls=True, cls_model_dir='/root/.paddleocr/whl/cls/ch_ppocr_mobile_v2.0_cls_infer', cls_image_shape='3, 48, 192', label_list=['0', '180'], cls_batch_num=6, cls_thresh=0.9, enable_mkldnn=False, cpu_threads=10, use_pdserving=False, warmup=False, sr_model_dir=None, sr_image_shape='3, 32, 128', sr_batch_num=1, draw_img_save_dir='./inference_results', save_crop_res=False, crop_res_save_dir='./output', use_mp=False, total_process_num=1, process_id=0, benchmark=False, save_log_path='./log_output/', show_log=True, use_onnx=False, output='./output', table_max_len=488, table_algorithm='TableAttn', table_model_dir=None, merge_no_span_structure=True, table_char_dict_path=None, layout_model_dir=None, layout_dict_path=None, layout_score_threshold=0.5, layout_nms_threshold=0.5, kie_algorithm='LayoutXLM', ser_model_dir=None, re_model_dir=None, use_visual_backbone=True, ser_dict_path='../train_data/XFUND/class_list_xfun.txt', ocr_order_method=None, mode='structure', image_orientation=False, layout=True, table=True, ocr=True, recovery=False, use_pdf2docx_api=False, lang='en', det=True, rec=True, type='ocr', ocr_version='PP-OCRv3', structure_version='PP-StructureV2')\n"
          ]
        }
      ]
    },
    {
      "cell_type": "code",
      "source": [
        "#Load and preprocess the image for OCR.\n",
        "def preprocess_image(image_path):\n",
        "    # Load the image in color mode\n",
        "    img = cv2.imread(image_path, cv2.IMREAD_COLOR)\n",
        "    if img is None:\n",
        "        raise ValueError(\"Image not loaded correctly, please check the file path.\")\n",
        "\n",
        "    # Resize the image to a uniform size for OCR performance\n",
        "    img = cv2.resize(img, (800, 1024))\n",
        "\n",
        "    # Apply denoising to the image for better OCR performance\n",
        "    img = cv2.fastNlMeansDenoisingColored(img, None, 10, 10, 7, 21)\n",
        "\n",
        "    # Convert the image to grayscale\n",
        "    gray = cv2.cvtColor(img, cv2.COLOR_BGR2GRAY)\n",
        "\n",
        "    # Apply adaptive thresholding to create a binary image\n",
        "    binary_image = cv2.adaptiveThreshold(gray, 255, cv2.ADAPTIVE_THRESH_GAUSSIAN_C, cv2.THRESH_BINARY, 9, 3)\n",
        "\n",
        "    return binary_image\n"
      ],
      "metadata": {
        "id": "29kCZCjy8ckX"
      },
      "execution_count": 2,
      "outputs": []
    },
    {
      "cell_type": "code",
      "source": [
        "def extract_text(image_path):\n",
        "    result = ocr.ocr(image_path)\n",
        "    extracted_lines = []\n",
        "\n",
        "    for line in result:\n",
        "        for word_info in line:\n",
        "            extracted_lines.append(word_info[1][0])\n",
        "    print(extracted_lines)\n",
        "    return extracted_lines\n"
      ],
      "metadata": {
        "id": "gai5NtT08hFn"
      },
      "execution_count": 3,
      "outputs": []
    },
    {
      "cell_type": "code",
      "source": [
        "def parse_details(extracted_lines):\n",
        "    details = {}\n",
        "    combined_text = '\\n'.join(extracted_lines)\n",
        "    transaction_status = re.search(r'(Paid Successfully|Failed)', combined_text)\n",
        "\n",
        "    for line in extracted_lines:\n",
        "        if line.isdigit():\n",
        "            details['amount'] = line.strip()\n",
        "\n",
        "        date_match = date_regex.search(line)\n",
        "        time_match = time_regex.search(line)\n",
        "        upi_id = upi_id_regex.search(line)\n",
        "        to_match = to_regex.search(line)\n",
        "        from_match = from_regex.search(line)\n",
        "        upi_type_match = re.search(r'(Paytm|Google Pay|PhonePe)', line,re.IGNORECASE)\n",
        "\n",
        "        if date_match:\n",
        "            details['date'] = date_match.group(0).strip()\n",
        "        if time_match:\n",
        "            details['time'] = time_match.group(0).strip()\n",
        "        if upi_id:\n",
        "            details['UPI_ID'] = upi_id.group(0).strip()\n",
        "        if to_match:\n",
        "            details['To'] = to_match.group(1).strip()\n",
        "        if from_match:\n",
        "            details['From'] = from_match.group(1).strip()\n",
        "        if upi_type_match:\n",
        "            details['UPI_type'] = upi_type_match.group(0).strip()\n",
        "\n",
        "    details['transaction_status'] = transaction_status.group(0) if transaction_status else 'Failed'\n",
        "\n",
        "    return details\n"
      ],
      "metadata": {
        "id": "P2SNFMxA8kpI"
      },
      "execution_count": 4,
      "outputs": []
    },
    {
      "cell_type": "code",
      "source": [
        "def structure_data(details):\n",
        "    return {\n",
        "        \"transaction_status\": details.get('transaction_status', 'N/A'),\n",
        "        \"amount\": details.get('amount', 'N/A'),\n",
        "        \"date\": details.get('date', 'N/A'),\n",
        "        \"time\": details.get('time', 'N/A'),\n",
        "        \"UPI type\": details.get('UPI_type', 'N/A'),\n",
        "        \"UPI ID\": details.get('UPI_ID', 'N/A'),\n",
        "        \"To\": details.get('To', 'N/A'),\n",
        "        \"From\": details.get('From', 'N/A')\n",
        "    }\n",
        "\n"
      ],
      "metadata": {
        "id": "j-UIeqXF8nU5"
      },
      "execution_count": 5,
      "outputs": []
    },
    {
      "cell_type": "code",
      "source": [
        "def save_json(data, filename):\n",
        "    with open(filename, 'w') as json_file:\n",
        "        json.dump(data, json_file, indent=4)"
      ],
      "metadata": {
        "id": "SR6nVb4n-jaK"
      },
      "execution_count": 6,
      "outputs": []
    },
    {
      "cell_type": "code",
      "source": [
        "def main(image_path):\n",
        "    try:\n",
        "        processed_image_path = \"processed_image.jpg\"\n",
        "        image = preprocess_image(image_path)\n",
        "        cv2.imwrite(processed_image_path, image)\n",
        "\n",
        "        extracted_lines = extract_text(processed_image_path)\n",
        "        parsed_details = parse_details(extracted_lines)\n",
        "        structured_data = structure_data(parsed_details)\n",
        "        print(\"Structured Data:\\n\", structured_data)\n",
        "        json_filename = \"transaction_details.json\"\n",
        "        save_json(structured_data, json_filename)\n",
        "    except ValueError as e:\n",
        "        print(e)\n",
        "\n",
        "image_path = 'upiss.jpg'\n",
        "main(image_path)"
      ],
      "metadata": {
        "colab": {
          "base_uri": "https://localhost:8080/"
        },
        "id": "3zxfGLib8pIs",
        "outputId": "1d33efc1-cc80-4392-d6bf-a230f00a5c20"
      },
      "execution_count": 7,
      "outputs": [
        {
          "output_type": "stream",
          "name": "stdout",
          "text": [
            "[2024/12/04 18:11:44] ppocr DEBUG: dt_boxes num : 14, elapse : 0.851163387298584\n",
            "[2024/12/04 18:11:44] ppocr DEBUG: cls num  : 14, elapse : 0.17275333404541016\n",
            "[2024/12/04 18:11:48] ppocr DEBUG: rec_res num  : 14, elapse : 3.8541176319122314\n",
            "['Paytm', 'Paid Successfully', '3120', 'Rupees One Hundred Twenty Only', 'y Pay to BharatPe Merchant', 'To: Mr Devrai Rathore', 'UPI ID: BHARATPE', '.90063239027@fbpe', 'From: Gautam Raj', 'Punjab National Bank - 765o', 'UPl Ref No: 3254320307i7', 'O6:59 PM.11 Sep 2023', 'LFIIYES BANK']\n",
            "Structured Data:\n",
            " {'transaction_status': 'Paid Successfully', 'amount': '3120', 'date': '11 Sep 2023', 'time': '6:59 PM', 'UPI type': 'Paytm', 'UPI ID': '90063239027@fbpe', 'To': 'Mr Devrai Rathore', 'From': 'Gautam Raj'}\n"
          ]
        }
      ]
    }
  ]
}